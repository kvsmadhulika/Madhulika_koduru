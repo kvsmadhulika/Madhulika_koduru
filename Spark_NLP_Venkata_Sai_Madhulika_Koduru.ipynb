{
  "nbformat": 4,
  "nbformat_minor": 0,
  "metadata": {
    "colab": {
      "provenance": [],
      "mount_file_id": "1obZXjMSjgLall8L6KkY0XaFq7BmVtghH",
      "authorship_tag": "ABX9TyMMgrX8ZvkyomS5Z7+9ic6e",
      "include_colab_link": true
    },
    "kernelspec": {
      "name": "python3",
      "display_name": "Python 3"
    },
    "language_info": {
      "name": "python"
    }
  },
  "cells": [
    {
      "cell_type": "markdown",
      "metadata": {
        "id": "view-in-github",
        "colab_type": "text"
      },
      "source": [
        "<a href=\"https://colab.research.google.com/github/kvsmadhulika/Madhulika_koduru/blob/main/Spark_NLP_Venkata_Sai_Madhulika_Koduru.ipynb\" target=\"_parent\"><img src=\"https://colab.research.google.com/assets/colab-badge.svg\" alt=\"Open In Colab\"/></a>"
      ]
    },
    {
      "cell_type": "code",
      "execution_count": null,
      "metadata": {
        "colab": {
          "base_uri": "https://localhost:8080/"
        },
        "id": "5BMwvNWL8DfA",
        "outputId": "3656f306-4047-4546-a2c2-5b3594a94007"
      },
      "outputs": [
        {
          "output_type": "stream",
          "name": "stdout",
          "text": [
            "--2024-04-10 20:56:25--  http://setup.johnsnowlabs.com/colab.sh\n",
            "Resolving setup.johnsnowlabs.com (setup.johnsnowlabs.com)... 51.158.130.125\n",
            "Connecting to setup.johnsnowlabs.com (setup.johnsnowlabs.com)|51.158.130.125|:80... connected.\n",
            "HTTP request sent, awaiting response... 302 Moved Temporarily\n",
            "Location: https://raw.githubusercontent.com/JohnSnowLabs/spark-nlp/master/scripts/colab_setup.sh [following]\n",
            "--2024-04-10 20:56:25--  https://raw.githubusercontent.com/JohnSnowLabs/spark-nlp/master/scripts/colab_setup.sh\n",
            "Resolving raw.githubusercontent.com (raw.githubusercontent.com)... 185.199.109.133, 185.199.108.133, 185.199.111.133, ...\n",
            "Connecting to raw.githubusercontent.com (raw.githubusercontent.com)|185.199.109.133|:443... connected.\n",
            "HTTP request sent, awaiting response... 200 OK\n",
            "Length: 1191 (1.2K) [text/plain]\n",
            "Saving to: ‘STDOUT’\n",
            "\n",
            "-                     0%[                    ]       0  --.-KB/s               Installing PySpark 3.2.3 and Spark NLP 5.3.3\n",
            "setup Colab for PySpark 3.2.3 and Spark NLP 5.3.3\n",
            "-                   100%[===================>]   1.16K  --.-KB/s    in 0s      \n",
            "\n",
            "2024-04-10 20:56:25 (34.7 MB/s) - written to stdout [1191/1191]\n",
            "\n"
          ]
        }
      ],
      "source": [
        "# This is to setup PySpark and Spark NLP on Colab\n",
        "!wget http://setup.johnsnowlabs.com/colab.sh -O - | bash"
      ]
    },
    {
      "cell_type": "code",
      "source": [
        "import sparknlp\n",
        "spark = sparknlp.start()\n",
        "\n",
        "print(\"Spark NLP version: {}\".format(sparknlp.version()))\n",
        "print(\"Apache Spark version: {}\".format(spark.version))"
      ],
      "metadata": {
        "colab": {
          "base_uri": "https://localhost:8080/"
        },
        "id": "0_fv8CC08yam",
        "outputId": "394fcf1a-1f2a-46fc-f776-b1187cdeb811"
      },
      "execution_count": null,
      "outputs": [
        {
          "output_type": "stream",
          "name": "stdout",
          "text": [
            "Spark NLP version: 5.3.3\n",
            "Apache Spark version: 3.2.3\n"
          ]
        }
      ]
    },
    {
      "cell_type": "code",
      "source": [
        "reviews_df = spark.read.options(mode='FAILFAST',\n",
        "                               header= True, multiline = True, inferSchema=True, escape='\"').csv('/content/drive/MyDrive/reviews.csv')"
      ],
      "metadata": {
        "id": "zdykND_g9Gck"
      },
      "execution_count": null,
      "outputs": []
    },
    {
      "cell_type": "code",
      "source": [
        "reviews_df.dtypes"
      ],
      "metadata": {
        "colab": {
          "base_uri": "https://localhost:8080/"
        },
        "id": "cgnpYTv09Tel",
        "outputId": "cac2b2b6-b9b2-4c91-a2b1-6bda5365f353"
      },
      "execution_count": null,
      "outputs": [
        {
          "output_type": "execute_result",
          "data": {
            "text/plain": [
              "[('listing_id', 'bigint'),\n",
              " ('id', 'bigint'),\n",
              " ('date', 'string'),\n",
              " ('reviewer_id', 'int'),\n",
              " ('reviewer_name', 'string'),\n",
              " ('comments', 'string')]"
            ]
          },
          "metadata": {},
          "execution_count": 4
        }
      ]
    },
    {
      "cell_type": "code",
      "source": [
        "### Split Dataset\n",
        "(extra_df,use_df) = reviews_df.randomSplit((0.75,0.25),seed=42)"
      ],
      "metadata": {
        "id": "n1xKHHki9ZUE"
      },
      "execution_count": null,
      "outputs": []
    },
    {
      "cell_type": "code",
      "source": [
        "from pyspark.sql import functions as F\n",
        "\n",
        "text_col = 'comments'\n",
        "Reviews_text = use_df.select(\"listing_id\",\"id\",text_col).filter(F.col(text_col).isNotNull())"
      ],
      "metadata": {
        "id": "CkX4ar9p9pyF"
      },
      "execution_count": null,
      "outputs": []
    },
    {
      "cell_type": "code",
      "source": [
        "#Screenshot 1\n",
        "Reviews_text.head(5)"
      ],
      "metadata": {
        "colab": {
          "base_uri": "https://localhost:8080/"
        },
        "id": "KNm33SiW9vfS",
        "outputId": "449d5fba-7512-46d3-c87b-d162c3462e6c"
      },
      "execution_count": null,
      "outputs": [
        {
          "output_type": "execute_result",
          "data": {
            "text/plain": [
              "[Row(listing_id=90676, id=972073, comments='Audra has a very beautiful home in a convenient location right between downtown and OSU. Clean, comfortable room was visited often by two very friendly and adorable dogs. I really felt welcomed and at home.'),\n",
              " Row(listing_id=90676, id=2527604, comments='Very beatiful home. Great location near High Street, a very nice place with many bars, restaurants and shopping. Very good hosts too, very kind and respectful. I felt very comfortable. '),\n",
              " Row(listing_id=90676, id=2999152, comments=\"Always great to stay at Audra's and Lacey's.  It is not often that I am able to say this, but it truely feels like a home away from home.  I look forward to stayong there again\"),\n",
              " Row(listing_id=90676, id=3685780, comments=\"This was my second time staying at Audra's house, and once again I couldn't have asked for a better experience.\"),\n",
              " Row(listing_id=90676, id=8176298, comments='Great home, great location ! Very clean and phenomenal  loft suite and shower.')]"
            ]
          },
          "metadata": {},
          "execution_count": 7
        }
      ]
    },
    {
      "cell_type": "code",
      "source": [
        "#NLP Pipeline Construction\n",
        "from sparknlp.base import DocumentAssembler\n",
        "documentAssembler = DocumentAssembler().setInputCol(text_col).setOutputCol('document')"
      ],
      "metadata": {
        "id": "uqAmQooa-uh1"
      },
      "execution_count": null,
      "outputs": []
    },
    {
      "cell_type": "code",
      "source": [
        "#Tokenizer\n",
        "from sparknlp.annotator import Tokenizer\n",
        "tokenizer = Tokenizer().setInputCols(['document']).setOutputCol('tokenized')"
      ],
      "metadata": {
        "id": "OjK-8vhK-4B7"
      },
      "execution_count": null,
      "outputs": []
    },
    {
      "cell_type": "code",
      "source": [
        "#Normalizer\n",
        "from sparknlp.annotator import Normalizer\n",
        "normalizer = Normalizer().setInputCols(['tokenized']).setOutputCol('normalized').setLowercase(True)"
      ],
      "metadata": {
        "id": "yWeo0ot--9cx"
      },
      "execution_count": null,
      "outputs": []
    },
    {
      "cell_type": "code",
      "source": [
        "#Lemmatizer\n",
        "from sparknlp.annotator import LemmatizerModel\n",
        "lemmatizer = LemmatizerModel.pretrained().setInputCols(['normalized']).setOutputCol('lemmatized')"
      ],
      "metadata": {
        "colab": {
          "base_uri": "https://localhost:8080/"
        },
        "id": "U352wk5T_C_d",
        "outputId": "7e6d656d-8c5a-43a2-eb58-dda6cc5b454a"
      },
      "execution_count": null,
      "outputs": [
        {
          "output_type": "stream",
          "name": "stdout",
          "text": [
            "lemma_antbnc download started this may take some time.\n",
            "Approximate size to download 907.6 KB\n",
            "[OK!]\n"
          ]
        }
      ]
    },
    {
      "cell_type": "code",
      "source": [
        "#Stop Words\n",
        "# Import the required modules and classes\n",
        "from sparknlp.base import DocumentAssembler, Pipeline\n",
        "from sparknlp.annotator import (\n",
        "    SentenceDetector,\n",
        "    Tokenizer,\n",
        "    StopWordsCleaner)\n",
        "\n",
        "# Step 3: Performs stopwords cleaning\n",
        "stop_words = (\n",
        "    StopWordsCleaner().pretrained(\"stopwords_iso\",\"en\")\n",
        "    .setInputCols([\"lemmatized\"])\n",
        "    .setOutputCol(\"unigrams\")\n",
        ")"
      ],
      "metadata": {
        "colab": {
          "base_uri": "https://localhost:8080/"
        },
        "id": "6mzImp6I_WY6",
        "outputId": "9b1f71f3-ca0a-4d43-e076-a52606c76859"
      },
      "execution_count": null,
      "outputs": [
        {
          "output_type": "stream",
          "name": "stdout",
          "text": [
            "stopwords_iso download started this may take some time.\n",
            "Approximate size to download 2.1 KB\n",
            "[OK!]\n"
          ]
        }
      ]
    },
    {
      "cell_type": "code",
      "source": [
        "from sparknlp.annotator import StopWordsCleaner\n",
        "import nltk\n",
        "nltk.download('stopwords')\n",
        "\n",
        "from nltk.corpus import stopwords\n",
        "eng_stopwords = stopwords.words('english')\n",
        "stopwords_cleaner = StopWordsCleaner().setInputCols(['lemmatized']).setOutputCol('unigrams').setStopWords(eng_stopwords)"
      ],
      "metadata": {
        "colab": {
          "base_uri": "https://localhost:8080/"
        },
        "id": "uJ3JpAWA_eqP",
        "outputId": "1ca87934-f755-48a7-9bf4-4d0c2cb9165d"
      },
      "execution_count": null,
      "outputs": [
        {
          "output_type": "stream",
          "name": "stderr",
          "text": [
            "[nltk_data] Downloading package stopwords to /root/nltk_data...\n",
            "[nltk_data]   Package stopwords is already up-to-date!\n"
          ]
        }
      ]
    },
    {
      "cell_type": "code",
      "source": [
        "#ngram generator\n",
        "from sparknlp.annotator import NGramGenerator\n",
        "\n",
        "ngrammer = NGramGenerator() \\\n",
        "    .setInputCols(['lemmatized']) \\\n",
        "    .setOutputCol('ngrams') \\\n",
        "    .setN(3) \\\n",
        "    .setEnableCumulative(True) \\\n",
        "    .setDelimiter('_')"
      ],
      "metadata": {
        "id": "4TUpAn0ZB7wU"
      },
      "execution_count": null,
      "outputs": []
    },
    {
      "cell_type": "code",
      "source": [
        "from sparknlp.annotator import PerceptronModel\n",
        "pos_tagger = PerceptronModel.pretrained('pos_anc').setInputCols(['document', 'lemmatized']).setOutputCol('pos')"
      ],
      "metadata": {
        "colab": {
          "base_uri": "https://localhost:8080/"
        },
        "id": "hxy1me6nCDr2",
        "outputId": "d7bfba16-f4c6-4685-9613-06f545ec12a3"
      },
      "execution_count": null,
      "outputs": [
        {
          "output_type": "stream",
          "name": "stdout",
          "text": [
            "pos_anc download started this may take some time.\n",
            "Approximate size to download 3.9 MB\n",
            "[OK!]\n"
          ]
        }
      ]
    },
    {
      "cell_type": "code",
      "source": [
        "from sparknlp.annotator import Chunker\n",
        "allowed_tags = ['<JJ>+<NN>', '<NN>+<NN>']\n",
        "chunker = Chunker().setInputCols(['document', 'pos']).setOutputCol('ngrams').setRegexParsers(allowed_tags)"
      ],
      "metadata": {
        "id": "SLDZGZe0CL3H"
      },
      "execution_count": null,
      "outputs": []
    },
    {
      "cell_type": "code",
      "source": [
        "#Finisher\n",
        "from sparknlp.base import Finisher\n",
        "finisher = Finisher().setInputCols(['unigrams','ngrams'])"
      ],
      "metadata": {
        "id": "eMnDbKyVCP9Z"
      },
      "execution_count": null,
      "outputs": []
    },
    {
      "cell_type": "code",
      "source": [
        "from pyspark.ml import Pipeline\n",
        "pipeline1 = Pipeline().setStages([documentAssembler,\n",
        "                 tokenizer,\n",
        "                 normalizer,\n",
        "                 lemmatizer,\n",
        "                 stopwords_cleaner,\n",
        "                 pos_tagger,\n",
        "                 chunker,\n",
        "                 finisher])"
      ],
      "metadata": {
        "id": "zqXY4AYwEIVF"
      },
      "execution_count": null,
      "outputs": []
    },
    {
      "cell_type": "code",
      "source": [
        "from pyspark.ml import Pipeline\n",
        "pipeline = Pipeline().setStages([documentAssembler,\n",
        "                 tokenizer,\n",
        "                 normalizer,\n",
        "                 lemmatizer,\n",
        "                 stop_words,\n",
        "                 pos_tagger,\n",
        "                 chunker,\n",
        "                 finisher])"
      ],
      "metadata": {
        "id": "YxLKe9sBEMek"
      },
      "execution_count": null,
      "outputs": []
    },
    {
      "cell_type": "code",
      "source": [
        "Processed_review = pipeline.fit(Reviews_text).transform(Reviews_text)"
      ],
      "metadata": {
        "id": "vnER_CDEEbTR"
      },
      "execution_count": null,
      "outputs": []
    },
    {
      "cell_type": "code",
      "source": [
        "Processed_review.limit(5).show()"
      ],
      "metadata": {
        "colab": {
          "base_uri": "https://localhost:8080/"
        },
        "id": "08RzgMR0Egni",
        "outputId": "7df96342-5166-48fc-add5-662960943b24"
      },
      "execution_count": null,
      "outputs": [
        {
          "output_type": "stream",
          "name": "stdout",
          "text": [
            "+----------+-------+--------------------+--------------------+--------------------+\n",
            "|listing_id|     id|            comments|   finished_unigrams|     finished_ngrams|\n",
            "+----------+-------+--------------------+--------------------+--------------------+\n",
            "|     90676| 972073|Audra has a very ...|[audra, beautiful...|[beautiful home, ...|\n",
            "|     90676|2527604|Very beatiful hom...|[beatiful, home, ...|[beatiful home, G...|\n",
            "|     90676|2999152|Always great to s...|[great, stay, aud...|                  []|\n",
            "|     90676|3685780|This was my secon...|[second, time, st...|[second time, tim...|\n",
            "|     90676|8176298|Great home, great...|[great, home, gre...|[Great home, grea...|\n",
            "+----------+-------+--------------------+--------------------+--------------------+\n",
            "\n"
          ]
        }
      ]
    },
    {
      "cell_type": "code",
      "source": [
        "from pyspark.sql.functions import concat\n",
        "Processed_review = Processed_review.withColumn('final',\n",
        "     concat(F.col('finished_unigrams'),\n",
        "            F.col('finished_ngrams')))\n"
      ],
      "metadata": {
        "id": "ZeTFsK5HEsaC"
      },
      "execution_count": null,
      "outputs": []
    },
    {
      "cell_type": "code",
      "source": [
        "#Screenshot 2\n",
        "Processed_review.select('final').limit(5).show(truncate=90)"
      ],
      "metadata": {
        "colab": {
          "base_uri": "https://localhost:8080/"
        },
        "id": "wIBVGoxnEvzg",
        "outputId": "23f17677-80de-4a8a-9582-ad55e3ed18f8"
      },
      "execution_count": null,
      "outputs": [
        {
          "output_type": "stream",
          "name": "stdout",
          "text": [
            "+------------------------------------------------------------------------------------------+\n",
            "|                                                                                     final|\n",
            "+------------------------------------------------------------------------------------------+\n",
            "|[audra, beautiful, home, convenient, location, right, downtown, osu, clean, comfortable...|\n",
            "|[beatiful, home, great, location, near, high, street, nice, place, bar, restaurant, sho...|\n",
            "|[great, stay, audras, laceys, able, truely, feel, like, home, away, home, look, forward...|\n",
            "|  [second, time, stay, audras, house, couldnt, ask, experience, second time, time staying]|\n",
            "|[great, home, great, location, clean, phenomenal, loft, suite, shower, Great home, grea...|\n",
            "+------------------------------------------------------------------------------------------+\n",
            "\n"
          ]
        }
      ]
    },
    {
      "cell_type": "code",
      "source": [
        "from pyspark.ml.feature import CountVectorizer\n",
        "\n",
        "tfizer = CountVectorizer(inputCol='final', outputCol='tf_features')\n",
        "tf_model = tfizer.fit(Processed_review)\n",
        "tf_result = tf_model.transform(Processed_review)"
      ],
      "metadata": {
        "id": "0ovuOZmoFUQI"
      },
      "execution_count": null,
      "outputs": []
    },
    {
      "cell_type": "code",
      "source": [
        "from pyspark.ml.feature import IDF\n",
        "\n",
        "idfizer = IDF(inputCol='tf_features', outputCol='tf_idf_features')\n",
        "idf_model = idfizer.fit(tf_result)\n",
        "tfidf_result = idf_model.transform(tf_result)"
      ],
      "metadata": {
        "id": "2Yzvb8XlGeET"
      },
      "execution_count": null,
      "outputs": []
    },
    {
      "cell_type": "code",
      "source": [
        "from pyspark.ml.clustering import LDA\n",
        "\n",
        "num_topics = 8\n",
        "max_iter = 10\n",
        "\n",
        "lda = LDA(k=num_topics, maxIter=max_iter, featuresCol='tf_idf_features')\n",
        "lda_model = lda.fit(tfidf_result)"
      ],
      "metadata": {
        "id": "qlaDPeOcHq42"
      },
      "execution_count": null,
      "outputs": []
    },
    {
      "cell_type": "code",
      "source": [
        "from pyspark.sql import types as T\n",
        "\n",
        "vocab = tf_model.vocabulary\n",
        "\n",
        "def get_words(token_list):\n",
        "     return [vocab[token_id] for token_id in token_list]\n",
        "\n",
        "udf_to_words = F.udf(get_words, T.ArrayType(T.StringType()))"
      ],
      "metadata": {
        "id": "mqlWTdzeUH-g"
      },
      "execution_count": null,
      "outputs": []
    },
    {
      "cell_type": "code",
      "source": [
        "#Screenshot 3\n",
        "from os import truncate\n",
        "top_words = 10\n",
        "\n",
        "topics = lda_model.describeTopics(top_words).withColumn('topicWords', udf_to_words(F.col('termIndices')))\n",
        "topics.select('topic', 'topicWords').show(truncate=False)"
      ],
      "metadata": {
        "colab": {
          "base_uri": "https://localhost:8080/"
        },
        "id": "Ttok8KCfUOG_",
        "outputId": "5cc4cb81-f425-462d-e4e8-0f7833931250"
      },
      "execution_count": null,
      "outputs": [
        {
          "output_type": "stream",
          "name": "stderr",
          "text": [
            "/usr/local/lib/python3.10/dist-packages/pyspark/sql/context.py:125: FutureWarning: Deprecated in 3.0.0. Use SparkSession.builder.getOrCreate() instead.\n",
            "  warnings.warn(\n"
          ]
        },
        {
          "output_type": "stream",
          "name": "stdout",
          "text": [
            "+-----+----------------------------------------------------------------------------------------------------+\n",
            "|topic|topicWords                                                                                          |\n",
            "+-----+----------------------------------------------------------------------------------------------------+\n",
            "|0    |[german, village, German Village, nice, nice place, park, location, great, night, stay]             |\n",
            "|1    |[great, stay, place, house, clean, location, home, host, comfortable, need]                         |\n",
            "|2    |[wait, Great hosts, brent, lucy, good communication, e, adam, alot, outdoor space, cant]            |\n",
            "|3    |[time, stay, place, columbus, host, great, love, location, amazing, home]                           |\n",
            "|4    |[Good place, I’ve stayed, good, place, nice, house, quick stay, stay, clean, location]              |\n",
            "|5    |[Great space, good place, stay, house, place, great, space, pack, host, columbus]                   |\n",
            "|6    |[fun, value, Nice place, night, great value, space, bedroom, time, great, check]                    |\n",
            "|7    |[Great apartment, wonderful, Beautiful house, easton, host, Good stay, corey, stay, proximity, good]|\n",
            "+-----+----------------------------------------------------------------------------------------------------+\n",
            "\n"
          ]
        }
      ]
    },
    {
      "cell_type": "code",
      "source": [
        "# Shows the result\n",
        "transformed = lda_model.transform(tfidf_result)\n",
        "#transformed.show(20)\n",
        "transformed.filter(transformed.listing_id=='90676').show(10)"
      ],
      "metadata": {
        "colab": {
          "base_uri": "https://localhost:8080/"
        },
        "id": "WOwKJYrzUxMg",
        "outputId": "9398578b-29ca-48e6-b29b-1203b2a7e332"
      },
      "execution_count": null,
      "outputs": [
        {
          "output_type": "stream",
          "name": "stdout",
          "text": [
            "+----------+--------+--------------------+--------------------+--------------------+--------------------+--------------------+--------------------+--------------------+\n",
            "|listing_id|      id|            comments|   finished_unigrams|     finished_ngrams|               final|         tf_features|     tf_idf_features|   topicDistribution|\n",
            "+----------+--------+--------------------+--------------------+--------------------+--------------------+--------------------+--------------------+--------------------+\n",
            "|     90676|  972073|Audra has a very ...|[audra, beautiful...|[beautiful home, ...|[audra, beautiful...|(68748,[3,4,8,9,2...|(68748,[3,4,8,9,2...|[0.00129703022913...|\n",
            "|     90676| 2527604|Very beatiful hom...|[beatiful, home, ...|[beatiful home, G...|[beatiful, home, ...|(68748,[1,2,4,5,7...|(68748,[1,2,4,5,7...|[0.00114311816851...|\n",
            "|     90676| 2999152|Always great to s...|[great, stay, aud...|                  []|[great, stay, aud...|(68748,[0,1,8,30,...|(68748,[0,1,8,30,...|[0.00186132581637...|\n",
            "|     90676| 3685780|This was my secon...|[second, time, st...|[second time, tim...|[second, time, st...|(68748,[0,6,25,73...|(68748,[0,6,25,73...|[0.00274942956576...|\n",
            "|     90676| 8176298|Great home, great...|[great, home, gre...|[Great home, grea...|[great, home, gre...|(68748,[1,3,4,8,6...|(68748,[1,3,4,8,6...|[0.56054628953197...|\n",
            "|     90676|21640943|I loved Audra & L...|[love, audra, lac...|[Short North.  Au...|[love, audra, lac...|(68748,[2,8,12,18...|(68748,[2,8,12,18...|[6.36076180438743...|\n",
            "|     90676|22329529|Audra and Lacey h...|[audra, lacey, be...|[beautiful home, ...|[audra, lacey, be...|(68748,[0,3,4,8,1...|(68748,[0,3,4,8,1...|[4.71380234677690...|\n",
            "|     90676|23642744|Audra and Lacey w...|[audra, lacey, am...|[amazing hosts, b...|[audra, lacey, am...|(68748,[0,1,4,5,8...|(68748,[0,1,4,5,8...|[3.45282422035421...|\n",
            "|     90676|23738360|There are so many...|[good, thing, sta...|[many good things...|[good, thing, sta...|(68748,[0,2,4,5,6...|(68748,[0,2,4,5,6...|[6.20614713398777...|\n",
            "|     90676|23972993|Staying with Audr...|[stay, audra, lac...|[absolute pleasur...|[stay, audra, lac...|(68748,[0,8,9,11,...|(68748,[0,8,9,11,...|[0.02486376465449...|\n",
            "+----------+--------+--------------------+--------------------+--------------------+--------------------+--------------------+--------------------+--------------------+\n",
            "only showing top 10 rows\n",
            "\n"
          ]
        }
      ]
    },
    {
      "cell_type": "code",
      "source": [
        "transformed.dtypes"
      ],
      "metadata": {
        "colab": {
          "base_uri": "https://localhost:8080/"
        },
        "id": "SwVLM9NvVwRe",
        "outputId": "bb65cab3-07d4-430e-d610-b5138438cec6"
      },
      "execution_count": null,
      "outputs": [
        {
          "output_type": "execute_result",
          "data": {
            "text/plain": [
              "[('listing_id', 'bigint'),\n",
              " ('id', 'bigint'),\n",
              " ('comments', 'string'),\n",
              " ('finished_unigrams', 'array<string>'),\n",
              " ('finished_ngrams', 'array<string>'),\n",
              " ('final', 'array<string>'),\n",
              " ('tf_features', 'vector'),\n",
              " ('tf_idf_features', 'vector'),\n",
              " ('topicDistribution', 'vector')]"
            ]
          },
          "metadata": {},
          "execution_count": 30
        }
      ]
    },
    {
      "cell_type": "code",
      "source": [
        "from pyspark.ml.feature import VectorAssembler\n",
        "\n",
        "docTopDF = transformed.select(\"listing_id\",\"topicDistribution\")\n",
        "\n",
        "def extract(row):\n",
        "    return (row.listing_id,) + tuple(row.topicDistribution.toArray().tolist())\n",
        "\n",
        "documentTopics_df = docTopDF.rdd.map(extract).toDF([\"listing_id\", \"topic1\",\"topic2\",\"topic3\",\"topic4\", \"topic5\",\"topic6\", \"topic7\",\"topic8\"])\n",
        "documentTopics_df.show()\n"
      ],
      "metadata": {
        "colab": {
          "base_uri": "https://localhost:8080/"
        },
        "id": "WBnyrxxcWC3K",
        "outputId": "82be3041-eaac-45eb-f696-fbb7504f6d21"
      },
      "execution_count": null,
      "outputs": [
        {
          "output_type": "stream",
          "name": "stdout",
          "text": [
            "+----------+--------------------+--------------------+--------------------+--------------------+--------------------+--------------------+--------------------+--------------------+\n",
            "|listing_id|              topic1|              topic2|              topic3|              topic4|              topic5|              topic6|              topic7|              topic8|\n",
            "+----------+--------------------+--------------------+--------------------+--------------------+--------------------+--------------------+--------------------+--------------------+\n",
            "|     90676|0.001297030229133...|  0.8626817077479316| 0.00122915270835834|0.001396244563700...| 0.12959703558134322|0.001268489270009...|0.001290981106079...|0.001239358793444...|\n",
            "|     90676|0.001143118168519...|  0.9920903868861105|0.001082775912342...|0.001229993151383...|0.001107045430203291|0.001117416770433...|0.001137448102311...|0.001091815578696...|\n",
            "|     90676|0.001861325816372...|  0.5096088102862382|0.001764503839357...|0.002004234102623794|0.001803779561266...|  0.2780845384027092| 0.20309383240083678|0.001778975590595...|\n",
            "|     90676|0.002749429565769363|0.003395377201089431|0.002606150934395...| 0.47268705007899026|0.002665113786608697|0.002689590045589...|  0.5105793353681835|0.002627953019373678|\n",
            "|     90676|  0.5605462895319738|0.002530758309444...|0.001943639104457...|  0.4269842765283776|0.001987384710650436|0.002006188577931...|0.002041560865369...|0.001959902371795...|\n",
            "|     90676|6.360761804387432E-4|  0.9955953466971061|6.030631316030884E-4|6.851137391681354E-4|6.165564954656363E-4|6.223564067557204E-4|6.334053016351152E-4|6.080820478273971E-4|\n",
            "|     90676|4.713802346776906...|  0.6755429014305959| 0.17759622269688904|   0.144551353671036|4.569018087504897E-4|4.612193173292656E-4|4.694094008424848E-4|4.506114398789798E-4|\n",
            "|     90676|3.452824220354219...|  0.6298211385796876|3.272847333405807E-4| 0.13576598594929237|0.052461361242837595|3.378106775181980...| 0.18061112496705203|3.300114282362304E-4|\n",
            "|     90676|6.206147133987776E-4|  0.7282631187964217|5.882445901858234E-4|  0.2681078524507796|6.015427468125488E-4|  6.0712737362508E-4|6.183374900904706E-4|5.931618386858991E-4|\n",
            "|     90676|0.024863764654497588|  0.5318786292693864|5.539896221864162E-4|  0.0919467352902389| 0.08499949867755958|5.718045890521237E-4| 0.26462690468038513|5.586732166937845E-4|\n",
            "|     90676|0.001172138314855...|  0.6665522273225408|0.001111337645687...| 0.32659288254828095|0.001136487822709...|0.001147100607526119|0.001167241248402...| 0.00112058448999744|\n",
            "|     90676|4.955099515703328E-4|  0.6775356759200397| 0.11349728157107096|5.337026055115877E-4|4.803635749870056E-4|4.848130134636840...|4.934653115113665E-4| 0.20647918805184515|\n",
            "|     90676|  0.3325337890966396|  0.6511289733300234|0.002614614588850...|0.002969449927513...|0.002673045674747903|0.002697956673566...|0.002746148017726168|0.002636022690932...|\n",
            "|     90676| 0.21647393461576525|  0.7761385137187249|0.001182203389974...|0.001343308051344751|0.001208600236717...|0.001219927486979...| 0.00124149439695203|0.001192018103541417|\n",
            "|     90676|5.416972133217461E-4|  0.8112849796576495|5.135137206556981E-4|   0.185547776581445|5.249657325318454E-4|5.298772795781298E-4|5.394145970004327E-4|5.177752178179782E-4|\n",
            "|     90676|0.002945829450479...|  0.9796012367526529|0.002792979389679...|0.003172192680214457|0.002855547052725...|0.002882330604086...|0.002933469061085642|0.002816415009075...|\n",
            "|     90676|  0.0693481900048806|  0.7803387854439897|3.394106862232065E-4|3.856357022410818E-4| 3.47037384630595E-4|0.058221047245507314|3.565339037511628...| 0.09066335962877653|\n",
            "|     90676|6.805300939321185E-4|  0.9952875200360287|6.451614435173009E-4|7.329187595774703E-4|  6.5961660636677E-4|6.660593486763453E-4| 6.77669479428452E-4|6.505242324727058E-4|\n",
            "|     90676|  0.1791385744874137|  0.3139907700655357|2.558804489599918E-4| 0.16198401580073166|2.616455660646743E-4| 0.01938178950375558|0.043469902392607486|  0.2815174217349312|\n",
            "|     90676| 0.00161089711802867|  0.5096831381798473|0.001526469905609048| 0.48090120459854135|0.001560691117810569|0.001575385298436...|0.001603078347098...|0.001539135434628...|\n",
            "+----------+--------------------+--------------------+--------------------+--------------------+--------------------+--------------------+--------------------+--------------------+\n",
            "only showing top 20 rows\n",
            "\n"
          ]
        }
      ]
    },
    {
      "cell_type": "code",
      "source": [
        "averages_df = documentTopics_df.groupBy(\"listing_id\").avg(\"topic1\", \"topic2\", \"topic3\",\"topic4\",\"topic5\",\"topic6\")\n",
        "averages_df.show(12)"
      ],
      "metadata": {
        "colab": {
          "base_uri": "https://localhost:8080/"
        },
        "id": "mpRuV_6BWObk",
        "outputId": "7159ce9d-7460-4e1f-d818-39207251d772"
      },
      "execution_count": null,
      "outputs": [
        {
          "output_type": "stream",
          "name": "stdout",
          "text": [
            "+------------------+--------------------+-------------------+--------------------+--------------------+--------------------+--------------------+\n",
            "|        listing_id|         avg(topic1)|        avg(topic2)|         avg(topic3)|         avg(topic4)|         avg(topic5)|         avg(topic6)|\n",
            "+------------------+--------------------+-------------------+--------------------+--------------------+--------------------+--------------------+\n",
            "|          23004939|0.024466548502732326|0.47168290218155234|0.013751583876648564|  0.2039260057313122| 0.04368558277428327| 0.05566055349176148|\n",
            "|          42693464| 0.04233351122135541| 0.5323187598625442| 0.03474041203597453| 0.17773814931910276| 0.06915349712287708| 0.07435588464352186|\n",
            "|          44121484| 0.10817767145508474| 0.5581778046753376| 0.03841484803648517|  0.1311589787430937| 0.02593164555313422|0.027897548580263738|\n",
            "|          47746544| 0.19409073348271225| 0.5189216210037323|0.002537050783186...| 0.10672715017004683| 0.03529285985433474|0.002618485177450...|\n",
            "|          51310391| 0.05164399470789074| 0.6656457924285673|0.019464416245603397| 0.10180830364239131|0.002956192300019...|0.005943058246393201|\n",
            "|588586238211818990| 0.07238997548571673| 0.3084949432930462|0.029968066876609096| 0.36885195057162634| 0.15605056538562762|0.004022419519820016|\n",
            "|639327266018106775| 0.06336315046808623|0.43639913737863995| 0.12313635782713107| 0.12624505117316567| 0.04948013070651095| 0.05305064427355684|\n",
            "|848825330375804713| 0.07333630216436239| 0.6726234152009388|0.001488974186899723| 0.06133016533968216| 0.08086587929852597|0.001536918243138085|\n",
            "|860412904688772781| 0.09333639187622184|0.11305412697598793| 0.13402580169447617|  0.6148438095995872|0.011121995518651508|0.011224968913629181|\n",
            "|894237632699784768| 0.11497550874615885|0.19586823095953218|0.002924931207141751|  0.5082958613809863| 0.15997476475054562|0.011939102740813556|\n",
            "|958007203112979812|0.002447093334708...| 0.9830535793346987|0.002320041446028...|0.002636471488009...|0.002372012309501...|0.002394408829945...|\n",
            "|996591867174836471|0.030717942207158493|0.03799011223650172|0.029120217744279277|  0.7823967784495572| 0.02977559365793073| 0.03005090166973165|\n",
            "+------------------+--------------------+-------------------+--------------------+--------------------+--------------------+--------------------+\n",
            "only showing top 12 rows\n",
            "\n"
          ]
        }
      ]
    },
    {
      "cell_type": "code",
      "source": [
        "averages_df.filter(averages_df.listing_id=='1217678').show()"
      ],
      "metadata": {
        "colab": {
          "base_uri": "https://localhost:8080/"
        },
        "id": "6TlaIlUXXY-c",
        "outputId": "18b17abb-bbaf-46ae-a4af-f0c09464c7b9"
      },
      "execution_count": null,
      "outputs": [
        {
          "output_type": "stream",
          "name": "stdout",
          "text": [
            "+----------+--------------------+------------------+-------------------+-------------------+-------------------+-------------------+\n",
            "|listing_id|         avg(topic1)|       avg(topic2)|        avg(topic3)|        avg(topic4)|        avg(topic5)|        avg(topic6)|\n",
            "+----------+--------------------+------------------+-------------------+-------------------+-------------------+-------------------+\n",
            "|   1217678|0.041437341045037275|0.5844896691088052|0.05341341072744864|0.18231522386666116|0.04423002227042448|0.03695629136387339|\n",
            "+----------+--------------------+------------------+-------------------+-------------------+-------------------+-------------------+\n",
            "\n"
          ]
        }
      ]
    },
    {
      "cell_type": "code",
      "source": [
        "listings_df =spark.read.options(mode='FAILFAST',\n",
        "                              header = True,\n",
        "                              multiLine=True,\n",
        "                              inferSchema=True,\n",
        "                              escape='\"').csv(\"/content/drive/MyDrive/listings.csv\")"
      ],
      "metadata": {
        "id": "xSIWXy0TaVBr"
      },
      "execution_count": null,
      "outputs": []
    },
    {
      "cell_type": "code",
      "source": [
        "listings_df = listings_df.select(\"id\",\"host_name\",\"host_is_superhost\",\"number_of_reviews\", \"review_scores_rating\", \"price\")\n"
      ],
      "metadata": {
        "id": "rss_064KcrEf"
      },
      "execution_count": null,
      "outputs": []
    },
    {
      "cell_type": "code",
      "source": [
        "totals_df = documentTopics_df.join(listings_df,documentTopics_df.listing_id == listings_df.id).drop(listings_df.id)\n",
        "totals_df.show(truncate=True)"
      ],
      "metadata": {
        "colab": {
          "base_uri": "https://localhost:8080/"
        },
        "id": "-c5X6Om9cxIF",
        "outputId": "defb9453-474b-460c-e1e8-f3f0ae33a0a3"
      },
      "execution_count": null,
      "outputs": [
        {
          "output_type": "stream",
          "name": "stdout",
          "text": [
            "+----------+--------------------+--------------------+--------------------+--------------------+--------------------+--------------------+--------------------+--------------------+-------------+-----------------+-----------------+--------------------+-------+\n",
            "|listing_id|              topic1|              topic2|              topic3|              topic4|              topic5|              topic6|              topic7|              topic8|    host_name|host_is_superhost|number_of_reviews|review_scores_rating|  price|\n",
            "+----------+--------------------+--------------------+--------------------+--------------------+--------------------+--------------------+--------------------+--------------------+-------------+-----------------+-----------------+--------------------+-------+\n",
            "|     90676|0.001297030229133...|  0.8626817077479316| 0.00122915270835834|0.001396244563700...| 0.12959703558134322|0.001268489270009...|0.001290981106079...|0.001239358793444...|Audra & Lacey|                t|              726|                4.82|$132.00|\n",
            "|     90676|0.001143118168519...|  0.9920903868861105|0.001082775912342...|0.001229993151383...|0.001107045430203291|0.001117416770433...|0.001137448102311...|0.001091815578696...|Audra & Lacey|                t|              726|                4.82|$132.00|\n",
            "|     90676|0.001861325816372...|  0.5096088102862382|0.001764503839357...|0.002004234102623794|0.001803779561266...|  0.2780845384027092| 0.20309383240083678|0.001778975590595...|Audra & Lacey|                t|              726|                4.82|$132.00|\n",
            "|     90676|0.002749429565769363|0.003395377201089431|0.002606150934395...| 0.47268705007899026|0.002665113786608697|0.002689590045589...|  0.5105793353681835|0.002627953019373678|Audra & Lacey|                t|              726|                4.82|$132.00|\n",
            "|     90676|  0.5605462895319738|0.002530758309444...|0.001943639104457...|  0.4269842765283776|0.001987384710650436|0.002006188577931...|0.002041560865369...|0.001959902371795...|Audra & Lacey|                t|              726|                4.82|$132.00|\n",
            "|     90676|6.360761804387432E-4|  0.9955953466971061|6.030631316030884E-4|6.851137391681354E-4|6.165564954656363E-4|6.223564067557204E-4|6.334053016351152E-4|6.080820478273971E-4|Audra & Lacey|                t|              726|                4.82|$132.00|\n",
            "|     90676|4.713802346776906...|  0.6755429014305959| 0.17759622269688904|   0.144551353671036|4.569018087504897E-4|4.612193173292656E-4|4.694094008424848E-4|4.506114398789798E-4|Audra & Lacey|                t|              726|                4.82|$132.00|\n",
            "|     90676|3.452824220354219...|  0.6298211385796876|3.272847333405807E-4| 0.13576598594929237|0.052461361242837595|3.378106775181980...| 0.18061112496705203|3.300114282362304E-4|Audra & Lacey|                t|              726|                4.82|$132.00|\n",
            "|     90676|6.206147133987776E-4|  0.7282631187964217|5.882445901858234E-4|  0.2681078524507796|6.015427468125488E-4|  6.0712737362508E-4|6.183374900904706E-4|5.931618386858991E-4|Audra & Lacey|                t|              726|                4.82|$132.00|\n",
            "|     90676|0.024863764654497588|  0.5318786292693864|5.539896221864162E-4|  0.0919467352902389| 0.08499949867755958|5.718045890521237E-4| 0.26462690468038513|5.586732166937845E-4|Audra & Lacey|                t|              726|                4.82|$132.00|\n",
            "|     90676|0.001172138314855...|  0.6665522273225408|0.001111337645687...| 0.32659288254828095|0.001136487822709...|0.001147100607526119|0.001167241248402...| 0.00112058448999744|Audra & Lacey|                t|              726|                4.82|$132.00|\n",
            "|     90676|4.955099515703328E-4|  0.6775356759200397| 0.11349728157107096|5.337026055115877E-4|4.803635749870056E-4|4.848130134636840...|4.934653115113665E-4| 0.20647918805184515|Audra & Lacey|                t|              726|                4.82|$132.00|\n",
            "|     90676|  0.3325337890966396|  0.6511289733300234|0.002614614588850...|0.002969449927513...|0.002673045674747903|0.002697956673566...|0.002746148017726168|0.002636022690932...|Audra & Lacey|                t|              726|                4.82|$132.00|\n",
            "|     90676| 0.21647393461576525|  0.7761385137187249|0.001182203389974...|0.001343308051344751|0.001208600236717...|0.001219927486979...| 0.00124149439695203|0.001192018103541417|Audra & Lacey|                t|              726|                4.82|$132.00|\n",
            "|     90676|5.416972133217461E-4|  0.8112849796576495|5.135137206556981E-4|   0.185547776581445|5.249657325318454E-4|5.298772795781298E-4|5.394145970004327E-4|5.177752178179782E-4|Audra & Lacey|                t|              726|                4.82|$132.00|\n",
            "|     90676|0.002945829450479...|  0.9796012367526529|0.002792979389679...|0.003172192680214457|0.002855547052725...|0.002882330604086...|0.002933469061085642|0.002816415009075...|Audra & Lacey|                t|              726|                4.82|$132.00|\n",
            "|     90676|  0.0693481900048806|  0.7803387854439897|3.394106862232065E-4|3.856357022410818E-4| 3.47037384630595E-4|0.058221047245507314|3.565339037511628...| 0.09066335962877653|Audra & Lacey|                t|              726|                4.82|$132.00|\n",
            "|     90676|6.805300939321185E-4|  0.9952875200360287|6.451614435173009E-4|7.329187595774703E-4|  6.5961660636677E-4|6.660593486763453E-4| 6.77669479428452E-4|6.505242324727058E-4|Audra & Lacey|                t|              726|                4.82|$132.00|\n",
            "|     90676|  0.1791385744874137|  0.3139907700655357|2.558804489599918E-4| 0.16198401580073166|2.616455660646743E-4| 0.01938178950375558|0.043469902392607486|  0.2815174217349312|Audra & Lacey|                t|              726|                4.82|$132.00|\n",
            "|     90676| 0.00161089711802867|  0.5096831381798473|0.001526469905609048| 0.48090120459854135|0.001560691117810569|0.001575385298436...|0.001603078347098...|0.001539135434628...|Audra & Lacey|                t|              726|                4.82|$132.00|\n",
            "+----------+--------------------+--------------------+--------------------+--------------------+--------------------+--------------------+--------------------+--------------------+-------------+-----------------+-----------------+--------------------+-------+\n",
            "only showing top 20 rows\n",
            "\n"
          ]
        }
      ]
    },
    {
      "cell_type": "code",
      "source": [
        "#Screenshot 4\n",
        "from pyspark.ml.feature import StringIndexer\n",
        "totals_df = StringIndexer(\n",
        "    inputCol='host_is_superhost',\n",
        "    outputCol='superhost',\n",
        "    handleInvalid='keep').fit(totals_df).transform(totals_df)\n",
        "\n",
        "totals_df.show(5, truncate=True)"
      ],
      "metadata": {
        "colab": {
          "base_uri": "https://localhost:8080/"
        },
        "id": "ZAOfl_FMi2Vp",
        "outputId": "ffd06b3a-d2b5-4a39-aeb2-0d985bc7f861"
      },
      "execution_count": null,
      "outputs": [
        {
          "output_type": "stream",
          "name": "stdout",
          "text": [
            "+----------+--------------------+--------------------+--------------------+--------------------+--------------------+--------------------+--------------------+--------------------+-------------+-----------------+-----------------+--------------------+-------+---------+\n",
            "|listing_id|              topic1|              topic2|              topic3|              topic4|              topic5|              topic6|              topic7|              topic8|    host_name|host_is_superhost|number_of_reviews|review_scores_rating|  price|superhost|\n",
            "+----------+--------------------+--------------------+--------------------+--------------------+--------------------+--------------------+--------------------+--------------------+-------------+-----------------+-----------------+--------------------+-------+---------+\n",
            "|     90676|0.001297030229133...|  0.8626817077479316| 0.00122915270835834|0.001396244563700...| 0.12959703558134322|0.001268489270009...|0.001290981106079...|0.001239358793444...|Audra & Lacey|                t|              726|                4.82|$132.00|      0.0|\n",
            "|     90676|0.001143118168519...|  0.9920903868861105|0.001082775912342...|0.001229993151383...|0.001107045430203291|0.001117416770433...|0.001137448102311...|0.001091815578696...|Audra & Lacey|                t|              726|                4.82|$132.00|      0.0|\n",
            "|     90676|0.001861325816372...|  0.5096088102862382|0.001764503839357...|0.002004234102623794|0.001803779561266...|  0.2780845384027092| 0.20309383240083678|0.001778975590595...|Audra & Lacey|                t|              726|                4.82|$132.00|      0.0|\n",
            "|     90676|0.002749429565769363|0.003395377201089431|0.002606150934395...| 0.47268705007899026|0.002665113786608697|0.002689590045589...|  0.5105793353681835|0.002627953019373678|Audra & Lacey|                t|              726|                4.82|$132.00|      0.0|\n",
            "|     90676|  0.5605462895319738|0.002530758309444...|0.001943639104457...|  0.4269842765283776|0.001987384710650436|0.002006188577931...|0.002041560865369...|0.001959902371795...|Audra & Lacey|                t|              726|                4.82|$132.00|      0.0|\n",
            "+----------+--------------------+--------------------+--------------------+--------------------+--------------------+--------------------+--------------------+--------------------+-------------+-----------------+-----------------+--------------------+-------+---------+\n",
            "only showing top 5 rows\n",
            "\n"
          ]
        }
      ]
    },
    {
      "cell_type": "code",
      "source": [],
      "metadata": {
        "id": "XO0N7JSLFHWL"
      },
      "execution_count": null,
      "outputs": []
    },
    {
      "cell_type": "code",
      "source": [
        "required_features = ['topic1','topic2','topic3','topic4','topic5','topic6']\n",
        "assembler = VectorAssembler(inputCols=required_features, outputCol='features')\n",
        "transformed_data = assembler.transform(totals_df)"
      ],
      "metadata": {
        "id": "_Ep4CJZvmZTY"
      },
      "execution_count": null,
      "outputs": []
    },
    {
      "cell_type": "code",
      "source": [
        "(training_data, test_data) = transformed_data.randomSplit([0.8,0.2])"
      ],
      "metadata": {
        "id": "7MWxjdk6mk5D"
      },
      "execution_count": null,
      "outputs": []
    },
    {
      "cell_type": "code",
      "source": [
        "from pyspark.ml.classification import RandomForestClassifier\n",
        "rf = RandomForestClassifier(labelCol='superhost',\n",
        "                            featuresCol='features',\n",
        "                            maxDepth=5)"
      ],
      "metadata": {
        "id": "QWulqUpFmn8l"
      },
      "execution_count": null,
      "outputs": []
    },
    {
      "cell_type": "code",
      "source": [
        "model = rf.fit(training_data)"
      ],
      "metadata": {
        "id": "bsz8vQVcmq1z"
      },
      "execution_count": null,
      "outputs": []
    },
    {
      "cell_type": "code",
      "source": [
        "predictions = model.transform(test_data)"
      ],
      "metadata": {
        "id": "c3QcKbO1qUSD"
      },
      "execution_count": null,
      "outputs": []
    },
    {
      "cell_type": "code",
      "source": [
        "# Evaluate our model\n",
        "from pyspark.ml.evaluation import MulticlassClassificationEvaluator\n",
        "evaluator = MulticlassClassificationEvaluator(\n",
        "    labelCol='superhost',\n",
        "    predictionCol='prediction',\n",
        "    metricName='accuracy')"
      ],
      "metadata": {
        "id": "EcGRVgZJqYa-"
      },
      "execution_count": null,
      "outputs": []
    },
    {
      "cell_type": "code",
      "source": [
        "#Screenshot 5\n",
        "accuracy = evaluator.evaluate(predictions)\n",
        "print('Test Accuracy = ', accuracy)"
      ],
      "metadata": {
        "colab": {
          "base_uri": "https://localhost:8080/"
        },
        "id": "2KHGnnHoqb-M",
        "outputId": "4e900b34-1f53-4048-fe31-2afd1b9a9ee0"
      },
      "execution_count": null,
      "outputs": [
        {
          "output_type": "stream",
          "name": "stdout",
          "text": [
            "Test Accuracy =  0.71357765094623\n"
          ]
        }
      ]
    },
    {
      "cell_type": "code",
      "source": [
        "#Screenshot 6\n",
        "from sparknlp.pretrained import PretrainedPipeline\n",
        "pipeline = PretrainedPipeline(\"detect_language_21\", lang = \"xx\")\n",
        "\n",
        "pipeline.annotate('Audra has a very beautiful home in a convenient location right between downtown and OSU. Clean, comfortable room was visited often by two very friendly and adorable dogs. I really felt welcomed and at home.')"
      ],
      "metadata": {
        "id": "N3gCvWwLI1lQ",
        "colab": {
          "base_uri": "https://localhost:8080/"
        },
        "outputId": "e7c647d6-b13f-42d7-fdad-4b0031c261ff"
      },
      "execution_count": null,
      "outputs": [
        {
          "output_type": "stream",
          "name": "stdout",
          "text": [
            "detect_language_21 download started this may take some time.\n",
            "Approx size to download 7.7 MB\n",
            "[OK!]\n"
          ]
        },
        {
          "output_type": "execute_result",
          "data": {
            "text/plain": [
              "{'document': ['Audra has a very beautiful home in a convenient location right between downtown and OSU. Clean, comfortable room was visited often by two very friendly and adorable dogs. I really felt welcomed and at home.'],\n",
              " 'sentence': ['Audra has a very beautiful home in a convenient location right between downtown and OSU.',\n",
              "  'Clean, comfortable room was visited often by two very friendly and adorable dogs.',\n",
              "  'I really felt welcomed and at home.'],\n",
              " 'language': ['en']}"
            ]
          },
          "metadata": {},
          "execution_count": 45
        }
      ]
    }
  ]
}